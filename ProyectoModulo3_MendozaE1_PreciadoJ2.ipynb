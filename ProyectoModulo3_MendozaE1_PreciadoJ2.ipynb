{
 "cells": [
  {
   "cell_type": "markdown",
   "metadata": {},
   "source": [
    "Considere un sistema ecológico simple compuesto solamente de dos especies: coyotes (y) y correcaminos (x), donde los primeros se alimentan de los segundos. Los tamaños de las poblaciones cambian de acuerdo con las ecuaciones: \n",
    "\n",
    " \n",
    "\n",
    "\n",
    "que se pueden entender de la siguiente manera: si no hay coyotes (y), los correcaminos se reproducen con una velocidad de crecimiento k1x; si no hay correcaminos, la especie de coyotes desaparece con velocidad k4y. El término xy representa la interacción entre las dos especies, y las constantes k2 y k3 dependen de la habilidad de los depredadores para atrapar a los correcaminos y de la habilidad de éstos para huir. Las poblaciones de los coyotes y los correcaminos cambian cíclicamente. Si se tiene que los valores son de k1=0.4, de k2=0.02, k3=0.001 y k4=0.3. Utilizando x (0) = 30 e y(0) = 3 como condiciones iniciales. Determina la cantidad de cada especie en t=2 ."
   ]
  },
  {
   "cell_type": "markdown",
   "metadata": {},
   "source": [
    "## Proyecto Modulo 3: Sistema Ecológico de dos especies\n",
    "\n",
    "##### Integrantes: \n",
    "- Erick Mendoza\n",
    "- Javier Preciado"
   ]
  },
  {
   "cell_type": "markdown",
   "metadata": {},
   "source": [
    "## Objetivos\n",
    "\n",
    "### Generales:\n",
    "- Determinar la cantidad de especies (coyotes y correcaminos) en 5 años\n",
    "\n",
    "### Específicos:\n",
    "- Desarrollar formula de tamaño de poblaciones.\n",
    "- Resolver numericamente la ecuación.\n",
    "- Graficar para comparación de resultados."
   ]
  },
  {
   "attachments": {
    "imagen.png": {
     "image/png": "[encoded data removed]"
    }
   },
   "cell_type": "markdown",
   "metadata": {},
   "source": [
    "### Modelo que representa el problema.\n",
    "![imagen.png](attachment:imagen.png)\n"
   ]
  },
  {
   "cell_type": "markdown",
   "metadata": {},
   "source": [
    "\\begin{align}\n",
    "\\frac{dx}{dt} &= k_1x-k_2xy\\\\\n",
    "\\frac{dx_2}{dt} &= x_2(2-x_2-x_1),\n",
    "\\end{align}"
   ]
  },
  {
   "cell_type": "markdown",
   "metadata": {},
   "source": [
    "### Simulaciones:\n",
    "- y = coyotes\n",
    "- x = correcaminos\n",
    "- $k_n$ = velocidad de crecimiento\n",
    "- $k_1$ = 0.4\n",
    "- $k_2$ = 0.02\n",
    "- k3 = 0.001\n",
    "- k4 = 0.3\n",
    "- t = 5 años"
   ]
  },
  {
   "cell_type": "code",
   "execution_count": null,
   "metadata": {},
   "outputs": [],
   "source": [
    "def Sist_eco(z, t):\n",
    "    x = z[0]\n",
    "    y = z[1]\n",
    "    dx1 = x1*(3-x1-2*x2)\n",
    "    dx2 = x2*(2-x2-x1)\n",
    "    return np.array([dx1, dx2])"
   ]
  },
  {
   "cell_type": "code",
   "execution_count": null,
   "metadata": {},
   "outputs": [],
   "source": []
  },
  {
   "cell_type": "code",
   "execution_count": null,
   "metadata": {},
   "outputs": [],
   "source": []
  },
  {
   "cell_type": "code",
   "execution_count": null,
   "metadata": {},
   "outputs": [],
   "source": []
  },
  {
   "cell_type": "code",
   "execution_count": null,
   "metadata": {},
   "outputs": [],
   "source": []
  }
 ],
 "metadata": {
  "kernelspec": {
   "display_name": "Python 3",
   "language": "python",
   "name": "python3"
  },
  "language_info": {
   "codemirror_mode": {
    "name": "ipython",
    "version": 3
   },
   "file_extension": ".py",
   "mimetype": "text/x-python",
   "name": "python",
   "nbconvert_exporter": "python",
   "pygments_lexer": "ipython3",
   "version": "3.7.3"
  }
 },
 "nbformat": 4,
 "nbformat_minor": 2
}
